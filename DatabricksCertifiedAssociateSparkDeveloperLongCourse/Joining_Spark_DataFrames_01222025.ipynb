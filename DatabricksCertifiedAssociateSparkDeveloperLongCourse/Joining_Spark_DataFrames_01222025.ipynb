{
 "cells": [
  {
   "cell_type": "code",
   "execution_count": 0,
   "metadata": {
    "application/vnd.databricks.v1+cell": {
     "cellMetadata": {
      "byteLimit": 2048000,
      "rowLimit": 10000
     },
     "inputWidgets": {},
     "nuid": "63f1e49f-22ec-4888-8be5-fd9b4d607e08",
     "showTitle": false,
     "tableResultSettingsMap": {},
     "title": ""
    }
   },
   "outputs": [],
   "source": [
    "# Performing Joins\n",
    "import datetime\n",
    "import pyspark.sql.functions as F\n",
    "from pyspark.sql import Row\n",
    "import pandas as pd\n",
    "\n",
    "\n",
    "courses = [\n",
    "    {\n",
    "        'course_id': 1,\n",
    "        'course_title': 'Python for Data Science',\n",
    "        'course_published_dt': datetime.date(2020, 1, 1),\n",
    "        'is_active': True,\n",
    "        'last_updated_ts': datetime.datetime(2020, 1, 1, 10, 10, 10)\n",
    "    },\n",
    "    {\n",
    "        'course_id': 2,\n",
    "        'course_title': 'Data Engineering with Apache Spark',\n",
    "        'course_published_dt': datetime.date(2020, 2, 1),\n",
    "        'is_active': True,\n",
    "        'last_updated_ts': datetime.datetime(2020, 2, 1, 10, 10, 10)\n",
    "    },\n",
    "    {\n",
    "        'course_id': 3,\n",
    "        'course_title': 'Data Science with Python',\n",
    "        'course_published_dt': datetime.date(2020, 3, 1),\n",
    "        'is_active': True,\n",
    "        'last_updated_ts': datetime.datetime(2020, 3, 1, 10, 10, 10)\n",
    "    },\n",
    "    {\n",
    "        'course_id': 4,\n",
    "        'course_title': 'Data Science with R',\n",
    "        'course_published_dt': datetime.date(2020, 4, 1),\n",
    "        'is_active': False,\n",
    "        'last_updated_ts': datetime.datetime(2020, 4, 1, 10, 10, 10)\n",
    "    }\n",
    "]\n",
    "\n",
    "courses_df = spark.createDataFrame([Row(**course) for course in courses])"
   ]
  },
  {
   "cell_type": "code",
   "execution_count": 0,
   "metadata": {
    "application/vnd.databricks.v1+cell": {
     "cellMetadata": {
      "byteLimit": 2048000,
      "rowLimit": 10000
     },
     "inputWidgets": {},
     "nuid": "8db74160-209b-4ac2-8795-9c0709495fac",
     "showTitle": false,
     "tableResultSettingsMap": {},
     "title": ""
    }
   },
   "outputs": [],
   "source": [
    "users = [\n",
    "    {\n",
    "        'user_id': 1,\n",
    "        'user_first_name': 'John',\n",
    "        'user_last_name': 'Doe',\n",
    "        'user_email': 'john.doe@databricks.com'\n",
    "    },\n",
    "    {\n",
    "        'user_id': 2,\n",
    "        'user_first_name': 'Jane',\n",
    "        'user_last_name': 'Doe',\n",
    "        'user_email': 'jane.doe@databricks.com'\n",
    "    },\n",
    "    {\n",
    "        'user_id': 3,\n",
    "        'user_first_name': 'Alice',\n",
    "        'user_last_name': 'Williams',\n",
    "        'user_email': 'alice.williams@databricks.com'\n",
    "    },\n",
    "    {\n",
    "        'user_id': 4,\n",
    "        'user_first_name': 'Bob',\n",
    "        'user_last_name': 'Smith',\n",
    "        'user_email': 'bob.smith@databricks.com'\n",
    "    }\n",
    "]\n",
    "\n",
    "users_df = spark.createDataFrame([Row(**user) for user in users])"
   ]
  },
  {
   "cell_type": "code",
   "execution_count": 0,
   "metadata": {
    "application/vnd.databricks.v1+cell": {
     "cellMetadata": {
      "byteLimit": 2048000,
      "rowLimit": 10000
     },
     "inputWidgets": {},
     "nuid": "cf385335-2349-48dc-835d-586ab3d52352",
     "showTitle": false,
     "tableResultSettingsMap": {},
     "title": ""
    }
   },
   "outputs": [],
   "source": [
    "course_enrollments = [\n",
    "    {\n",
    "        'course_enrollment_id': 1,\n",
    "        'user_id': 3,\n",
    "        'course_id': 2,\n",
    "        'price_paid': 9.99\n",
    "    },\n",
    "    {\n",
    "        'course_enrollment_id': 2,\n",
    "        'user_id': 4,\n",
    "        'course_id': 3,\n",
    "        'price_paid': 19.99\n",
    "    },\n",
    "    {\n",
    "        'course_enrollment_id': 3,\n",
    "        'user_id': 1,\n",
    "        'course_id': 1,\n",
    "        'price_paid': 14.99\n",
    "    },\n",
    "    {\n",
    "        'course_enrollment_id': 4,\n",
    "        'user_id': 2,\n",
    "        'course_id': 4,\n",
    "        'price_paid': 29.99\n",
    "    }\n",
    "]\n",
    "\n",
    "course_enrollments_df = spark.createDataFrame([Row(**course_enrollment) for course_enrollment in course_enrollments])"
   ]
  },
  {
   "cell_type": "code",
   "execution_count": 0,
   "metadata": {
    "application/vnd.databricks.v1+cell": {
     "cellMetadata": {
      "byteLimit": 2048000,
      "rowLimit": 10000
     },
     "inputWidgets": {},
     "nuid": "32381914-5468-4527-9616-8f9cd5428592",
     "showTitle": false,
     "tableResultSettingsMap": {},
     "title": ""
    }
   },
   "outputs": [],
   "source": [
    "courses_df.show()"
   ]
  },
  {
   "cell_type": "code",
   "execution_count": 0,
   "metadata": {
    "application/vnd.databricks.v1+cell": {
     "cellMetadata": {
      "byteLimit": 2048000,
      "rowLimit": 10000
     },
     "inputWidgets": {},
     "nuid": "75fcda2a-b716-4d29-8ce3-4fe639e9dc5b",
     "showTitle": false,
     "tableResultSettingsMap": {},
     "title": ""
    }
   },
   "outputs": [],
   "source": [
    "users_df.show()"
   ]
  },
  {
   "cell_type": "code",
   "execution_count": 0,
   "metadata": {
    "application/vnd.databricks.v1+cell": {
     "cellMetadata": {
      "byteLimit": 2048000,
      "rowLimit": 10000
     },
     "inputWidgets": {},
     "nuid": "45382776-4940-48bc-9d76-606273f2303a",
     "showTitle": false,
     "tableResultSettingsMap": {},
     "title": ""
    }
   },
   "outputs": [],
   "source": [
    "course_enrollments_df.show()"
   ]
  },
  {
   "cell_type": "code",
   "execution_count": 0,
   "metadata": {
    "application/vnd.databricks.v1+cell": {
     "cellMetadata": {
      "byteLimit": 2048000,
      "rowLimit": 10000
     },
     "inputWidgets": {},
     "nuid": "b7acdac7-c462-4250-a7c7-b968fef576d2",
     "showTitle": false,
     "tableResultSettingsMap": {},
     "title": ""
    }
   },
   "outputs": [],
   "source": [
    "help(courses_df.join)"
   ]
  },
  {
   "cell_type": "code",
   "execution_count": 0,
   "metadata": {
    "application/vnd.databricks.v1+cell": {
     "cellMetadata": {
      "byteLimit": 2048000,
      "rowLimit": 10000
     },
     "inputWidgets": {},
     "nuid": "b7d0deb2-91d1-4bb3-9b88-c0c37e8e34ed",
     "showTitle": false,
     "tableResultSettingsMap": {},
     "title": ""
    }
   },
   "outputs": [],
   "source": [
    "help(courses_df.crossJoin)"
   ]
  },
  {
   "cell_type": "code",
   "execution_count": 0,
   "metadata": {
    "application/vnd.databricks.v1+cell": {
     "cellMetadata": {
      "byteLimit": 2048000,
      "rowLimit": 10000
     },
     "inputWidgets": {},
     "nuid": "84f0b4bb-d4bc-413e-818c-3d1c2428b7c4",
     "showTitle": false,
     "tableResultSettingsMap": {},
     "title": ""
    }
   },
   "outputs": [],
   "source": [
    "help(courses_df.alias)"
   ]
  },
  {
   "cell_type": "code",
   "execution_count": 0,
   "metadata": {
    "application/vnd.databricks.v1+cell": {
     "cellMetadata": {
      "byteLimit": 2048000,
      "rowLimit": 10000
     },
     "inputWidgets": {},
     "nuid": "6fb13695-f689-465d-a60c-bce301388245",
     "showTitle": false,
     "tableResultSettingsMap": {},
     "title": ""
    }
   },
   "outputs": [],
   "source": [
    "courses_df.alias('c').select('c.course_id').show()"
   ]
  },
  {
   "cell_type": "code",
   "execution_count": 0,
   "metadata": {
    "application/vnd.databricks.v1+cell": {
     "cellMetadata": {
      "byteLimit": 2048000,
      "rowLimit": 10000
     },
     "inputWidgets": {},
     "nuid": "5e2ab203-b80b-41e3-9006-20a75db2ace2",
     "showTitle": false,
     "tableResultSettingsMap": {},
     "title": ""
    }
   },
   "outputs": [],
   "source": [
    "# Inner Joins\n",
    "users_df \\\n",
    "    .join(course_enrollments_df, users_df.user_id == course_enrollments_df.user_id) \\\n",
    "    .show()"
   ]
  },
  {
   "cell_type": "code",
   "execution_count": 0,
   "metadata": {
    "application/vnd.databricks.v1+cell": {
     "cellMetadata": {
      "byteLimit": 2048000,
      "rowLimit": 10000
     },
     "inputWidgets": {},
     "nuid": "2e6cc9e9-285c-4c35-b0b0-8798b9487936",
     "showTitle": false,
     "tableResultSettingsMap": {},
     "title": ""
    }
   },
   "outputs": [],
   "source": [
    "# As both datafrmaes have user_id using the same name, we can pass column name as a string as well\n",
    "users_df \\\n",
    "    .join(course_enrollments_df, 'user_id') \\\n",
    "    .show()"
   ]
  },
  {
   "cell_type": "code",
   "execution_count": 0,
   "metadata": {
    "application/vnd.databricks.v1+cell": {
     "cellMetadata": {
      "byteLimit": 2048000,
      "rowLimit": 10000
     },
     "inputWidgets": {},
     "nuid": "1620539d-bef6-4955-9ac0-4f151240628e",
     "showTitle": false,
     "tableResultSettingsMap": {},
     "title": ""
    }
   },
   "outputs": [],
   "source": [
    "users_df \\\n",
    "    .join(course_enrollments_df, users_df.user_id == course_enrollments_df.user_id) \\\n",
    "    .select(users_df['*'], course_enrollments_df['course_id'], course_enrollments_df['course_enrollment_id']) \\\n",
    "    .show()"
   ]
  },
  {
   "cell_type": "code",
   "execution_count": 0,
   "metadata": {
    "application/vnd.databricks.v1+cell": {
     "cellMetadata": {
      "byteLimit": 2048000,
      "rowLimit": 10000
     },
     "inputWidgets": {},
     "nuid": "d1eeb412-0597-4404-bd76-95af15a23f98",
     "showTitle": false,
     "tableResultSettingsMap": {},
     "title": ""
    }
   },
   "outputs": [],
   "source": [
    "users_df.alias('u') \\\n",
    "    .join(course_enrollments_df.alias('ce'), users_df.user_id == course_enrollments_df.user_id) \\\n",
    "    .select('u.*', 'course_id', 'course_enrollment_id') \\\n",
    "    .show()"
   ]
  },
  {
   "cell_type": "code",
   "execution_count": 0,
   "metadata": {
    "application/vnd.databricks.v1+cell": {
     "cellMetadata": {
      "byteLimit": 2048000,
      "rowLimit": 10000
     },
     "inputWidgets": {},
     "nuid": "0e6ce95c-f9d1-4094-a7bc-8649d40997ff",
     "showTitle": false,
     "tableResultSettingsMap": {},
     "title": ""
    }
   },
   "outputs": [],
   "source": [
    "users_df \\\n",
    "    .join(course_enrollments_df.alias('ce'), users_df.user_id == course_enrollments_df.user_id) \\\n",
    "    .groupBy(users_df['user_id']) \\\n",
    "    .count() \\\n",
    "    .show()"
   ]
  },
  {
   "cell_type": "code",
   "execution_count": 0,
   "metadata": {
    "application/vnd.databricks.v1+cell": {
     "cellMetadata": {
      "byteLimit": 2048000,
      "rowLimit": 10000
     },
     "inputWidgets": {},
     "nuid": "240f5885-df69-4b82-b292-a7ac4fc838b1",
     "showTitle": false,
     "tableResultSettingsMap": {},
     "title": ""
    }
   },
   "outputs": [],
   "source": [
    "users_df.alias('u') \\\n",
    "    .join(course_enrollments_df.alias('ce'), users_df.user_id == course_enrollments_df.user_id) \\\n",
    "    .groupBy('u.user_id') \\\n",
    "    .count() \\\n",
    "    .show()"
   ]
  },
  {
   "cell_type": "code",
   "execution_count": 0,
   "metadata": {
    "application/vnd.databricks.v1+cell": {
     "cellMetadata": {
      "byteLimit": 2048000,
      "rowLimit": 10000
     },
     "inputWidgets": {},
     "nuid": "b969a940-1740-47f9-b966-c24cba394967",
     "showTitle": false,
     "tableResultSettingsMap": {},
     "title": ""
    }
   },
   "outputs": [],
   "source": [
    "users_df \\\n",
    "    .join(course_enrollments_df, 'user_id') \\\n",
    "    .groupBy('user_id') \\\n",
    "    .count() \\\n",
    "    .show()"
   ]
  },
  {
   "cell_type": "code",
   "execution_count": 0,
   "metadata": {
    "application/vnd.databricks.v1+cell": {
     "cellMetadata": {
      "byteLimit": 2048000,
      "rowLimit": 10000
     },
     "inputWidgets": {},
     "nuid": "9c0abcc0-f226-458b-bcdf-2e538ef80106",
     "showTitle": false,
     "tableResultSettingsMap": {},
     "title": ""
    }
   },
   "outputs": [],
   "source": [
    "# Performing left outer joins using left\n",
    "users_df \\\n",
    "    .join(course_enrollments_df, users_df.user_id == course_enrollments_df.user_id, 'left') \\\n",
    "    .show()"
   ]
  },
  {
   "cell_type": "code",
   "execution_count": 0,
   "metadata": {
    "application/vnd.databricks.v1+cell": {
     "cellMetadata": {
      "byteLimit": 2048000,
      "rowLimit": 10000
     },
     "inputWidgets": {},
     "nuid": "c4246ad5-6995-482d-b8b7-9ff6b5549869",
     "showTitle": false,
     "tableResultSettingsMap": {},
     "title": ""
    }
   },
   "outputs": [],
   "source": [
    "# left or left_outer or leftouter are the same\n",
    "users_df \\\n",
    "    .join(course_enrollments_df, users_df.user_id == course_enrollments_df.user_id, 'left_outer') \\\n",
    "    .show()"
   ]
  },
  {
   "cell_type": "code",
   "execution_count": 0,
   "metadata": {
    "application/vnd.databricks.v1+cell": {
     "cellMetadata": {
      "byteLimit": 2048000,
      "rowLimit": 10000
     },
     "inputWidgets": {},
     "nuid": "93781f5d-6e9c-4368-807a-afd4108f103b",
     "showTitle": false,
     "tableResultSettingsMap": {},
     "title": ""
    }
   },
   "outputs": [],
   "source": [
    "users_df \\\n",
    "    .join(course_enrollments_df, 'user_id', 'leftouter') \\\n",
    "    .show()"
   ]
  },
  {
   "cell_type": "code",
   "execution_count": 0,
   "metadata": {
    "application/vnd.databricks.v1+cell": {
     "cellMetadata": {
      "byteLimit": 2048000,
      "rowLimit": 10000
     },
     "inputWidgets": {},
     "nuid": "0f74cc92-a455-4585-a9be-47b58596b73f",
     "showTitle": false,
     "tableResultSettingsMap": {},
     "title": ""
    }
   },
   "outputs": [],
   "source": [
    "users_df \\\n",
    "    .join(course_enrollments_df, users_df.user_id == course_enrollments_df.user_id, 'left') \\\n",
    "    .select(users_df['*'], course_enrollments_df['course_id'], course_enrollments_df['course_enrollment_id']) \\\n",
    "    .show()"
   ]
  },
  {
   "cell_type": "code",
   "execution_count": 0,
   "metadata": {
    "application/vnd.databricks.v1+cell": {
     "cellMetadata": {
      "byteLimit": 2048000,
      "rowLimit": 10000
     },
     "inputWidgets": {},
     "nuid": "3ee499a6-ab26-4c3d-b275-ed1d6224a6fa",
     "showTitle": false,
     "tableResultSettingsMap": {},
     "title": ""
    }
   },
   "outputs": [],
   "source": [
    "users_df.alias('u') \\\n",
    "    .join(course_enrollments_df.alias('ce'), users_df.user_id == course_enrollments_df.user_id, 'left') \\\n",
    "    .select('u.*', 'course_id', 'course_enrollment_id') \\\n",
    "    .show()"
   ]
  },
  {
   "cell_type": "code",
   "execution_count": 0,
   "metadata": {
    "application/vnd.databricks.v1+cell": {
     "cellMetadata": {
      "byteLimit": 2048000,
      "rowLimit": 10000
     },
     "inputWidgets": {},
     "nuid": "394e9b1e-46b3-4f77-aeb6-eec3f2ba3ff3",
     "showTitle": false,
     "tableResultSettingsMap": {},
     "title": ""
    }
   },
   "outputs": [],
   "source": [
    "users_df.alias('u') \\\n",
    "    .join(course_enrollments_df.alias('ce'), users_df.user_id == course_enrollments_df.user_id, 'left') \\\n",
    "    .filter('ce.course_enrollment_id IS NULL') \\\n",
    "    .select('u.*', 'course_id', 'course_enrollment_id') \\\n",
    "    .show()"
   ]
  },
  {
   "cell_type": "code",
   "execution_count": 0,
   "metadata": {
    "application/vnd.databricks.v1+cell": {
     "cellMetadata": {
      "byteLimit": 2048000,
      "rowLimit": 10000
     },
     "inputWidgets": {},
     "nuid": "85be30b7-a2ad-48bd-8ee7-d82a9a455269",
     "showTitle": false,
     "tableResultSettingsMap": {},
     "title": ""
    }
   },
   "outputs": [],
   "source": [
    "users_df.alias('u') \\\n",
    "    .join(course_enrollments_df.alias('ce'), users_df.user_id == course_enrollments_df.user_id, 'outer') \\\n",
    "    .groupBy('u.user_id') \\\n",
    "    .agg(F.sum(F.when(course_enrollments_df['user_id'].isNull(), 0).otherwise(1)).alias('course_count')) \\\n",
    "    .orderBy('u.user_id') \\\n",
    "    .show()"
   ]
  },
  {
   "cell_type": "code",
   "execution_count": 0,
   "metadata": {
    "application/vnd.databricks.v1+cell": {
     "cellMetadata": {
      "byteLimit": 2048000,
      "rowLimit": 10000
     },
     "inputWidgets": {},
     "nuid": "5ba32125-1035-49c1-9fa4-117d9b0f2783",
     "showTitle": false,
     "tableResultSettingsMap": {},
     "title": ""
    }
   },
   "outputs": [],
   "source": [
    "users_df.alias('u') \\\n",
    "    .join(course_enrollments_df.alias('ce'), users_df.user_id == course_enrollments_df.user_id, 'outer') \\\n",
    "    .groupBy('u.user_id') \\\n",
    "    .agg(F.sum(F.expr('CASE WHEN ce.course_enrollment_id IS NULL THEN 0 ELSE 1 END')).alias('course_count')) \\\n",
    "    .orderBy('u.user_id') \\\n",
    "    .show()"
   ]
  },
  {
   "cell_type": "code",
   "execution_count": 0,
   "metadata": {
    "application/vnd.databricks.v1+cell": {
     "cellMetadata": {
      "byteLimit": 2048000,
      "rowLimit": 10000
     },
     "inputWidgets": {},
     "nuid": "22d9a424-1861-420a-b816-f089d04add5a",
     "showTitle": false,
     "tableResultSettingsMap": {},
     "title": ""
    }
   },
   "outputs": [],
   "source": [
    "# Right Outer Joins\n",
    "course_enrollments_df \\\n",
    "    .join(users_df, users_df.user_id == course_enrollments_df.user_id, 'right') \\\n",
    "    .show()"
   ]
  },
  {
   "cell_type": "code",
   "execution_count": 0,
   "metadata": {
    "application/vnd.databricks.v1+cell": {
     "cellMetadata": {
      "byteLimit": 2048000,
      "rowLimit": 10000
     },
     "inputWidgets": {},
     "nuid": "9a9099d1-b90b-4c48-8e4e-8a98a3fea4ca",
     "showTitle": false,
     "tableResultSettingsMap": {},
     "title": ""
    }
   },
   "outputs": [],
   "source": [
    "course_enrollments_df \\\n",
    "    .join(users_df, 'user_id', 'right') \\\n",
    "    .show()"
   ]
  },
  {
   "cell_type": "code",
   "execution_count": 0,
   "metadata": {
    "application/vnd.databricks.v1+cell": {
     "cellMetadata": {
      "byteLimit": 2048000,
      "rowLimit": 10000
     },
     "inputWidgets": {},
     "nuid": "09132d45-fec0-4b9b-88a4-9ae33a737ec9",
     "showTitle": false,
     "tableResultSettingsMap": {},
     "title": ""
    }
   },
   "outputs": [],
   "source": [
    "course_enrollments_df.alias('ce') \\\n",
    "    .join(users_df.alias('u'), users_df.user_id == course_enrollments_df.user_id, 'right_outer') \\\n",
    "    .select('u.*', 'course_id', 'course_enrollment_id') \\\n",
    "    .show()"
   ]
  },
  {
   "cell_type": "code",
   "execution_count": 0,
   "metadata": {
    "application/vnd.databricks.v1+cell": {
     "cellMetadata": {
      "byteLimit": 2048000,
      "rowLimit": 10000
     },
     "inputWidgets": {},
     "nuid": "73ce6d6c-df57-4353-b90f-ec03a4bc7060",
     "showTitle": false,
     "tableResultSettingsMap": {},
     "title": ""
    }
   },
   "outputs": [],
   "source": [
    "# Full Outer Joins\n",
    "users_df \\\n",
    "    .join(course_enrollments_df, users_df.user_id == course_enrollments_df.user_id, 'full') \\\n",
    "    .show()"
   ]
  },
  {
   "cell_type": "code",
   "execution_count": 0,
   "metadata": {
    "application/vnd.databricks.v1+cell": {
     "cellMetadata": {
      "byteLimit": 2048000,
      "rowLimit": 10000
     },
     "inputWidgets": {},
     "nuid": "c743732c-e67b-4a51-8bbe-306bfcbab4f0",
     "showTitle": false,
     "tableResultSettingsMap": {},
     "title": ""
    }
   },
   "outputs": [],
   "source": [
    "spark.conf.set('spark.sql.autoBroadcastJoinThreshold', '0')"
   ]
  },
  {
   "cell_type": "code",
   "execution_count": 0,
   "metadata": {
    "application/vnd.databricks.v1+cell": {
     "cellMetadata": {
      "byteLimit": 2048000,
      "rowLimit": 10000
     },
     "inputWidgets": {},
     "nuid": "22d5f658-fb86-4b89-9d3b-49f81c4e7be3",
     "showTitle": false,
     "tableResultSettingsMap": {},
     "title": ""
    }
   },
   "outputs": [],
   "source": [
    "spark.conf.set('spark.sql.autoBroadcastJoinThreshold', '10485760b')"
   ]
  },
  {
   "cell_type": "code",
   "execution_count": 0,
   "metadata": {
    "application/vnd.databricks.v1+cell": {
     "cellMetadata": {
      "byteLimit": 2048000,
      "rowLimit": 10000
     },
     "inputWidgets": {},
     "nuid": "c9e19815-08c6-4de4-b993-d620b07b528d",
     "showTitle": false,
     "tableResultSettingsMap": {},
     "title": ""
    }
   },
   "outputs": [],
   "source": [
    "# ~1 GB in size\n",
    "clickstream = spark.read.csv('dbfs:/databricks-datasets/wikipedia-datasets/data-001/clickstream/raw-uncompressed/', sep='\\t', header=True)"
   ]
  },
  {
   "cell_type": "code",
   "execution_count": 0,
   "metadata": {
    "application/vnd.databricks.v1+cell": {
     "cellMetadata": {
      "byteLimit": 2048000,
      "rowLimit": 10000
     },
     "inputWidgets": {},
     "nuid": "8f3f7fee-2d97-4331-bb50-01f0905a8dd7",
     "showTitle": false,
     "tableResultSettingsMap": {},
     "title": ""
    }
   },
   "outputs": [],
   "source": [
    "# 10+ GB in size\n",
    "articles = spark.read.parquet('dbfs:/databricks-datasets/wikipedia-datasets/data-001/en_wikipedia/articles-only-parquet/')"
   ]
  },
  {
   "cell_type": "code",
   "execution_count": 0,
   "metadata": {
    "application/vnd.databricks.v1+cell": {
     "cellMetadata": {
      "byteLimit": 2048000,
      "rowLimit": 10000
     },
     "inputWidgets": {},
     "nuid": "2a79707d-5a56-49b0-8354-fd8aa6344ce5",
     "showTitle": false,
     "tableResultSettingsMap": {},
     "title": ""
    }
   },
   "outputs": [],
   "source": [
    "clickstream.join(articles, articles.id == clickstream.curr_id).count()"
   ]
  },
  {
   "cell_type": "code",
   "execution_count": 0,
   "metadata": {
    "application/vnd.databricks.v1+cell": {
     "cellMetadata": {
      "byteLimit": 2048000,
      "rowLimit": 10000
     },
     "inputWidgets": {},
     "nuid": "924d4079-ccee-4516-a749-1b57764e81c1",
     "showTitle": false,
     "tableResultSettingsMap": {},
     "title": ""
    }
   },
   "outputs": [],
   "source": [
    "%%time\n",
    "\n",
    "F.broadcast(clickstream).join(articles, articles.id == clickstream.curr_id).count()"
   ]
  },
  {
   "cell_type": "code",
   "execution_count": 0,
   "metadata": {
    "application/vnd.databricks.v1+cell": {
     "cellMetadata": {
      "byteLimit": 2048000,
      "rowLimit": 10000
     },
     "inputWidgets": {},
     "nuid": "a04640fc-0b9d-4f1d-a5d8-65f15f74fc38",
     "showTitle": false,
     "tableResultSettingsMap": {},
     "title": ""
    }
   },
   "outputs": [],
   "source": [
    "help(courses_df.crossJoin)"
   ]
  },
  {
   "cell_type": "code",
   "execution_count": 0,
   "metadata": {
    "application/vnd.databricks.v1+cell": {
     "cellMetadata": {
      "byteLimit": 2048000,
      "rowLimit": 10000
     },
     "inputWidgets": {},
     "nuid": "6bd2a68f-76ab-4561-b4ef-72ccada19a37",
     "showTitle": false,
     "tableResultSettingsMap": {},
     "title": ""
    }
   },
   "outputs": [],
   "source": [
    "# Cross Joins\n",
    "users_df \\\n",
    "    .crossJoin(courses_df) \\\n",
    "    .show()"
   ]
  },
  {
   "cell_type": "code",
   "execution_count": 0,
   "metadata": {
    "application/vnd.databricks.v1+cell": {
     "cellMetadata": {
      "byteLimit": 2048000,
      "rowLimit": 10000
     },
     "inputWidgets": {},
     "nuid": "fad488e1-3536-4b17-bd30-6fb6a49b9f69",
     "showTitle": false,
     "tableResultSettingsMap": {},
     "title": ""
    }
   },
   "outputs": [],
   "source": [
    "users_df \\\n",
    "    .join(courses_df) \\\n",
    "    .show()"
   ]
  },
  {
   "cell_type": "code",
   "execution_count": 0,
   "metadata": {
    "application/vnd.databricks.v1+cell": {
     "cellMetadata": {
      "byteLimit": 2048000,
      "rowLimit": 10000
     },
     "inputWidgets": {},
     "nuid": "acaa6f53-2550-4fd5-a5fe-ea12f7755ef6",
     "showTitle": false,
     "tableResultSettingsMap": {},
     "title": ""
    }
   },
   "outputs": [],
   "source": [
    "users_df \\\n",
    "    .join(courses_df, how='cross') \\\n",
    "    .show()"
   ]
  },
  {
   "cell_type": "code",
   "execution_count": 0,
   "metadata": {
    "application/vnd.databricks.v1+cell": {
     "cellMetadata": {},
     "inputWidgets": {},
     "nuid": "9a58c148-1b97-4192-b1fb-eb3377ab185b",
     "showTitle": false,
     "tableResultSettingsMap": {},
     "title": ""
    }
   },
   "outputs": [],
   "source": []
  }
 ],
 "metadata": {
  "application/vnd.databricks.v1+notebook": {
   "computePreferences": null,
   "dashboards": [],
   "environmentMetadata": {
    "base_environment": "",
    "client": "1"
   },
   "language": "python",
   "notebookMetadata": {
    "pythonIndentUnit": 4
   },
   "notebookName": "Joining_Spark_DataFrames_01222025",
   "widgets": {}
  },
  "language_info": {
   "name": "python"
  }
 },
 "nbformat": 4,
 "nbformat_minor": 0
}
